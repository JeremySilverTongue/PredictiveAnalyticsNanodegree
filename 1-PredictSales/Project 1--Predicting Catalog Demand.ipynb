{
 "cells": [
  {
   "cell_type": "markdown",
   "metadata": {},
   "source": [
    "# Business and Data Understanding\n",
    "\n",
    "In this project we will explore whether or not to send a product catalog to a mailing list. Specificially, we need to decide if the likely profit resulting from sending this catalog (less the costs of sending the catalog) is greater than $\\$10,000$, a cutoff price set by management.\n",
    "\n",
    "To make this decision, we need data that will allow us to predict what customers on our mailing list will make purchases in response to the catalog, and how much they will spend. Let's investigate the data we have to get a better idea. We'll start by loading up our data and relevant libraries, and displaying the avalible data points about our customer base:"
   ]
  },
  {
   "cell_type": "code",
   "execution_count": 1,
   "metadata": {
    "collapsed": false
   },
   "outputs": [
    {
     "name": "stdout",
     "output_type": "stream",
     "text": [
      "Populating the interactive namespace from numpy and matplotlib\n",
      "\n",
      "Customer Columns\n",
      "\n",
      "Name\n",
      "Customer Segment\n",
      "Customer ID\n",
      "Address\n",
      "City\n",
      "State\n",
      "ZIP\n",
      "Avg Sale Amount\n",
      "Store Number\n",
      "Responded to Last Catalog\n",
      "Avg Num Products Purchased\n",
      "# Years as Customer\n"
     ]
    }
   ],
   "source": [
    "%pylab inline\n",
    "\n",
    "import matplotlib.pyplot as plt\n",
    "import numpy as np\n",
    "import pandas as pd\n",
    "from sklearn.linear_model import LinearRegression\n",
    "from sklearn.feature_selection import f_regression\n",
    "\n",
    "import warnings\n",
    "warnings.filterwarnings(action=\"ignore\",\n",
    "                        module=\"scipy\", \n",
    "                        message=\"^internal gelsd\")\n",
    "\n",
    "CUSTOMERS_FILE_NAME = \"p1-customers.xlsx\"\n",
    "MAILING_LIST_FILE_NAME = \"p1-mailinglist.xlsx\"\n",
    "\n",
    "customers = pd.read_excel(CUSTOMERS_FILE_NAME)\n",
    "mailing_list = pd.read_excel(MAILING_LIST_FILE_NAME)\n",
    "\n",
    "print \"\\nCustomer Columns\\n\"\n",
    "print \"\\n\".join(customers.columns.values)\n"
   ]
  },
  {
   "cell_type": "markdown",
   "metadata": {},
   "source": [
    "I'd be very curious to know exactly what is meant by `Avg Sale Amount` and `Avg Num Products Purchased`. I'm especially curious how we have the later data for the mailing list customers...\n",
    "\n",
    "# Analysis, Modeling, and Validation\n",
    "\n",
    "Let's begin by noting that `Ave Sale Amount` is the variable we wish to predict. Also, we only want to consider those customers that `Responded to Last Catalog` "
   ]
  },
  {
   "cell_type": "code",
   "execution_count": 2,
   "metadata": {
    "collapsed": false
   },
   "outputs": [],
   "source": [
    "customers.loc(customers[\"Responded to Last Catalog\"] == \"Yes\")\n",
    "sales = customers[\"Avg Sale Amount\"]"
   ]
  },
  {
   "cell_type": "markdown",
   "metadata": {},
   "source": [
    "Let's consider which columns we want to use in our regression. `Name` is right out, as it should have no predictive power, and we would end up with a jillion dummy variables if we tried to use it. `Customer ID` and `Address` are out for the same reason. Now `City`, `State`, `ZIP`, and `Store Number` are interesting. We might indeed expect those to have predictive potentential. However, upon inspection, all the customers are from Colorado, and there are so many of the other catagories that our data starts looking very thin.\n",
    "\n",
    "Finally, what about `# Years as Customer`? This field is problematic as the people on the mailing list have all been customers far shorter of a time than the population on the general customers list.\n",
    "\n",
    "That leaves us with `Avg Num Products Purchased`, and `Customer Segment` as our predictor variables. The latter is a catagorical variable, so we'll convert it to dummy variables, with \"Credit Card Only\" as the base case.\n",
    "\n",
    "One more thing: We need to save off the purchase probability of the mailing list, for use later. Predicting whether or not someone will buy from a catalog seems like far more of a diffiult task that what we're trying to do here, so I'm glad we've got that data to hand."
   ]
  },
  {
   "cell_type": "code",
   "execution_count": 3,
   "metadata": {
    "collapsed": false
   },
   "outputs": [],
   "source": [
    "predictor_vars = [\"Avg Num Products Purchased\", \"Customer Segment\"]\n",
    "\n",
    "customers = customers[predictor_vars]\n",
    "customers = pd.get_dummies(customers, drop_first=True)\n",
    "\n",
    "purchase_probability = mailing_list[\"Score_Yes\"]\n",
    "\n",
    "mailing_list = mailing_list[predictor_vars]\n",
    "mailing_list = pd.get_dummies(mailing_list, drop_first=True)"
   ]
  },
  {
   "cell_type": "markdown",
   "metadata": {},
   "source": [
    "Let's see if we've made a sensible decision in our predictor variables by running an "
   ]
  },
  {
   "cell_type": "code",
   "execution_count": 4,
   "metadata": {
    "collapsed": false
   },
   "outputs": [
    {
     "name": "stdout",
     "output_type": "stream",
     "text": [
      "('Avg Num Products Purchased', 0.0)\n",
      "('Customer Segment_Loyalty Club Only', 0.77955187819458072)\n",
      "('Customer Segment_Loyalty Club and Credit Card', 3.7698750322070151e-224)\n",
      "('Customer Segment_Store Mailing List', 3.3369210186601561e-305)\n"
     ]
    }
   ],
   "source": [
    "print \"\\n\".join(map(str,zip(\n",
    "            map(str,customers.columns.values), \n",
    "            f_regression(customers, sales)[1])\n",
    "                   ))"
   ]
  },
  {
   "cell_type": "markdown",
   "metadata": {},
   "source": [
    "I'm honestly not sure what it means if the $p$ value of one dummy variable is large while the other two are small, but it certainly seems that we have selected our predictor variables properly (I also went through this whole process with lasso regression on all the avalible variables, and these are the only ones that got any weight). Recall that a $p$ value of under about $0.05$ suggests that the variable is indeed predictive.\n",
    "\n",
    "Let's do some regression!"
   ]
  },
  {
   "cell_type": "code",
   "execution_count": 5,
   "metadata": {
    "collapsed": false
   },
   "outputs": [
    {
     "name": "stdout",
     "output_type": "stream",
     "text": [
      "[  66.97620492 -149.35572194  281.83876492 -245.4177445 ]\n",
      "303.463471315\n"
     ]
    }
   ],
   "source": [
    "X = customers\n",
    "y = sales\n",
    "\n",
    "lr = LinearRegression()\n",
    "\n",
    "lr.fit(X, y)\n",
    "print lr.coef_\n",
    "print lr.intercept_"
   ]
  },
  {
   "cell_type": "markdown",
   "metadata": {},
   "source": [
    "The predicted spending per customer who recieves the catalog (assuming they do make a purchase) is given by the following equation:\n",
    "\n",
    "$$\n",
    "\\begin{aligned}\n",
    "    spend &= 303.46 + 66.98 \\times items - 149.36 \\times loyaltyOnly\\\\\n",
    "            &\\quad+ 281.84 \\times loyaltyAndCC - 245.42 \\times mailingList.\n",
    "\\end{aligned}\n",
    "$$\n",
    "\n",
    "Let's check out the $R^2$ value to see how good a model this is:"
   ]
  },
  {
   "cell_type": "code",
   "execution_count": 6,
   "metadata": {
    "collapsed": false
   },
   "outputs": [
    {
     "data": {
      "text/plain": [
       "0.8368777093556734"
      ]
     },
     "execution_count": 6,
     "metadata": {},
     "output_type": "execute_result"
    }
   ],
   "source": [
    "lr.score(X, y)"
   ]
  },
  {
   "cell_type": "markdown",
   "metadata": {},
   "source": [
    "Interpreting $R^2$ values is more of a shurg than an art, but this seems fine. I'm be super stoked with $0.9$, and I'd be looking very ascance at $0.5$, so $0.84$ is pretty decent.\n",
    "\n",
    "# Making Business Decisions\n",
    "\n",
    "Now let's predict how much each customer on the mailing list would spend, if they do indeed make a purchase. Then we'll multiply those values by the odds that that customer will make a purchase. We can sum those expected sales to get the gross take. We'll then multiply by our margin, subtract out the cost of sending the catalog, and we'll have the profit generated by sending the catalog!"
   ]
  },
  {
   "cell_type": "code",
   "execution_count": 7,
   "metadata": {
    "collapsed": false
   },
   "outputs": [
    {
     "name": "stdout",
     "output_type": "stream",
     "text": [
      "21987.4356865\n"
     ]
    }
   ],
   "source": [
    "predicted_spending = lr.predict(mailing_list)\n",
    "weighted_spending = predicted_spending * purchase_probability\n",
    "gross = sum(weighted_spending)\n",
    "profit = .5 * gross\n",
    "cost = 6.5 * mailing_list.shape[0]\n",
    "cutoff = 10000\n",
    "net = profit - cost\n",
    "print net"
   ]
  },
  {
   "cell_type": "markdown",
   "metadata": {},
   "source": [
    "Looks like we can expect to make $\\$21,987.44$ by sending this catalog, which is greater than the $\\$10,000$ cutoff. Therefore, I reccomend we do indeed send the catalog!"
   ]
  }
 ],
 "metadata": {
  "kernelspec": {
   "display_name": "Python 2",
   "language": "python",
   "name": "python2"
  },
  "language_info": {
   "codemirror_mode": {
    "name": "ipython",
    "version": 2
   },
   "file_extension": ".py",
   "mimetype": "text/x-python",
   "name": "python",
   "nbconvert_exporter": "python",
   "pygments_lexer": "ipython2",
   "version": "2.7.12"
  }
 },
 "nbformat": 4,
 "nbformat_minor": 1
}
